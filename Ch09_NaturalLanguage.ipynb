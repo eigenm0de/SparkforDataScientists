{
 "cells": [
  {
   "cell_type": "markdown",
   "metadata": {},
   "source": [
    "### Do the normal setup to get spark context"
   ]
  },
  {
   "cell_type": "code",
   "execution_count": 1,
   "metadata": {},
   "outputs": [
    {
     "name": "stdout",
     "output_type": "stream",
     "text": [
      "initializing pyspark\n",
      "pyspark initialized\n"
     ]
    }
   ],
   "source": [
    "import sys\n",
    "\n",
    "rootpath = '/home/student/ROI/SparkProgram/'\n",
    "datapath = f'{rootpath}datasets/'\n",
    "sys.path.append(rootpath)\n",
    "import pyspark_helpers as pyh\n",
    "from pyspark_helpers import *\n",
    "sc, spark, conf = initspark()\n",
    "\n",
    "import pandas as pd\n",
    "import matplotlib as mp\n",
    "import numpy\n",
    "from matplotlib import pyplot as plt\n",
    "\n",
    "from pyspark_helpers import display\n",
    "from pyspark.sql.types import *\n",
    "from pyspark.sql.functions import col, lit\n",
    "from functools import reduce\n",
    "import nltk\n",
    "from nltk.corpus import stopwords\n",
    "from nltk.stem import WordNetLemmatizer\n",
    "import matplotlib.pyplot as plt\n",
    "from wordcloud import WordCloud \n",
    "import pandas as pd\n",
    "import re\n",
    "import string"
   ]
  },
  {
   "cell_type": "markdown",
   "metadata": {},
   "source": [
    "### Read the alexa reviews sample data set from Kaggle\n",
    "#### https://www.kaggle.com/sid321axn/amazon-alexa-reviews\n"
   ]
  },
  {
   "cell_type": "code",
   "execution_count": 2,
   "metadata": {},
   "outputs": [
    {
     "data": {
      "text/html": [
       "<div>\n",
       "<style scoped>\n",
       "    .dataframe tbody tr th:only-of-type {\n",
       "        vertical-align: middle;\n",
       "    }\n",
       "\n",
       "    .dataframe tbody tr th {\n",
       "        vertical-align: top;\n",
       "    }\n",
       "\n",
       "    .dataframe thead th {\n",
       "        text-align: right;\n",
       "    }\n",
       "</style>\n",
       "<table border=\"1\" class=\"dataframe\">\n",
       "  <thead>\n",
       "    <tr style=\"text-align: right;\">\n",
       "      <th></th>\n",
       "      <th>rating</th>\n",
       "      <th>date</th>\n",
       "      <th>variation</th>\n",
       "      <th>verified_reviews</th>\n",
       "      <th>feedback</th>\n",
       "    </tr>\n",
       "  </thead>\n",
       "  <tbody>\n",
       "    <tr>\n",
       "      <th>0</th>\n",
       "      <td>NaN</td>\n",
       "      <td>None</td>\n",
       "      <td>None</td>\n",
       "      <td>None</td>\n",
       "      <td>NaN</td>\n",
       "    </tr>\n",
       "    <tr>\n",
       "      <th>1</th>\n",
       "      <td>5.0</td>\n",
       "      <td>31-Jul-18</td>\n",
       "      <td>Charcoal Fabric</td>\n",
       "      <td>Love my Echo!</td>\n",
       "      <td>1.0</td>\n",
       "    </tr>\n",
       "    <tr>\n",
       "      <th>2</th>\n",
       "      <td>5.0</td>\n",
       "      <td>31-Jul-18</td>\n",
       "      <td>Charcoal Fabric</td>\n",
       "      <td>Loved it!</td>\n",
       "      <td>1.0</td>\n",
       "    </tr>\n",
       "    <tr>\n",
       "      <th>3</th>\n",
       "      <td>4.0</td>\n",
       "      <td>31-Jul-18</td>\n",
       "      <td>Walnut Finish</td>\n",
       "      <td>Sometimes while playing a game, you can answer...</td>\n",
       "      <td>1.0</td>\n",
       "    </tr>\n",
       "    <tr>\n",
       "      <th>4</th>\n",
       "      <td>5.0</td>\n",
       "      <td>31-Jul-18</td>\n",
       "      <td>Charcoal Fabric</td>\n",
       "      <td>I have had a lot of fun with this thing. My 4 ...</td>\n",
       "      <td>1.0</td>\n",
       "    </tr>\n",
       "    <tr>\n",
       "      <th>5</th>\n",
       "      <td>5.0</td>\n",
       "      <td>31-Jul-18</td>\n",
       "      <td>Charcoal Fabric</td>\n",
       "      <td>Music</td>\n",
       "      <td>1.0</td>\n",
       "    </tr>\n",
       "    <tr>\n",
       "      <th>6</th>\n",
       "      <td>5.0</td>\n",
       "      <td>31-Jul-18</td>\n",
       "      <td>Heather Gray Fabric</td>\n",
       "      <td>I received the echo as a gift. I needed anothe...</td>\n",
       "      <td>1.0</td>\n",
       "    </tr>\n",
       "    <tr>\n",
       "      <th>7</th>\n",
       "      <td>3.0</td>\n",
       "      <td>31-Jul-18</td>\n",
       "      <td>Sandstone Fabric</td>\n",
       "      <td>Without having a cellphone, I cannot use many ...</td>\n",
       "      <td>1.0</td>\n",
       "    </tr>\n",
       "    <tr>\n",
       "      <th>8</th>\n",
       "      <td>5.0</td>\n",
       "      <td>31-Jul-18</td>\n",
       "      <td>Charcoal Fabric</td>\n",
       "      <td>I think this is the 5th one I've purchased. I'...</td>\n",
       "      <td>1.0</td>\n",
       "    </tr>\n",
       "    <tr>\n",
       "      <th>9</th>\n",
       "      <td>5.0</td>\n",
       "      <td>30-Jul-18</td>\n",
       "      <td>Heather Gray Fabric</td>\n",
       "      <td>looks great</td>\n",
       "      <td>1.0</td>\n",
       "    </tr>\n",
       "  </tbody>\n",
       "</table>\n",
       "</div>"
      ],
      "text/plain": [
       "   rating       date             variation  \\\n",
       "0     NaN       None                  None   \n",
       "1     5.0  31-Jul-18      Charcoal Fabric    \n",
       "2     5.0  31-Jul-18      Charcoal Fabric    \n",
       "3     4.0  31-Jul-18        Walnut Finish    \n",
       "4     5.0  31-Jul-18      Charcoal Fabric    \n",
       "5     5.0  31-Jul-18      Charcoal Fabric    \n",
       "6     5.0  31-Jul-18  Heather Gray Fabric    \n",
       "7     3.0  31-Jul-18     Sandstone Fabric    \n",
       "8     5.0  31-Jul-18      Charcoal Fabric    \n",
       "9     5.0  30-Jul-18  Heather Gray Fabric    \n",
       "\n",
       "                                    verified_reviews  feedback  \n",
       "0                                               None       NaN  \n",
       "1                                      Love my Echo!       1.0  \n",
       "2                                          Loved it!       1.0  \n",
       "3  Sometimes while playing a game, you can answer...       1.0  \n",
       "4  I have had a lot of fun with this thing. My 4 ...       1.0  \n",
       "5                                              Music       1.0  \n",
       "6  I received the echo as a gift. I needed anothe...       1.0  \n",
       "7  Without having a cellphone, I cannot use many ...       1.0  \n",
       "8  I think this is the 5th one I've purchased. I'...       1.0  \n",
       "9                                        looks great       1.0  "
      ]
     },
     "metadata": {},
     "output_type": "display_data"
    }
   ],
   "source": [
    "schema = StructType([\n",
    "    StructField(\"rating\", IntegerType(), True),\n",
    "    StructField(\"date\", StringType(), True),\n",
    "    StructField(\"variation\", StringType(), True),\n",
    "    StructField(\"verified_reviews\", StringType(), True),\n",
    "    StructField(\"feedback\", IntegerType(), True)])\n",
    "df = spark.read.option(\"delimiter\",\"\\t\").schema(schema).option(\"inferSchema\", \"True\").csv(\"amazon_alexa.tsv\")\n",
    "display(df)\n",
    "df.createOrReplaceTempView('alexa')\n"
   ]
  },
  {
   "cell_type": "markdown",
   "metadata": {},
   "source": [
    "### Dealing with unstructured data works better at the RDD level because we will need to use a lot of custom functions using the map method. So let's just select the reviews column. \n",
    "### The flatMap returning the object itself is a trick to turn the RDD from containing Row objects into regular string objects"
   ]
  },
  {
   "cell_type": "code",
   "execution_count": 3,
   "metadata": {},
   "outputs": [
    {
     "name": "stdout",
     "output_type": "stream",
     "text": [
      "[Row(lower(verified_reviews)='love my echo!')]\n",
      "3150 3150\n",
      "['love my echo!', 'loved it!', 'sometimes while playing a game, you can answer a question correctly but alexa says you got it wrong and answers the same as you.  i like being able to turn lights on and off while away from home.', 'i have had a lot of fun with this thing. my 4 yr old learns about dinosaurs, i control the lights and play games like categories. has nice sound when playing music as well.', 'music', 'i received the echo as a gift. i needed another bluetooth or something to play music easily accessible, and found this smart speaker. can’t wait to see what else it can do.', 'without having a cellphone, i cannot use many of her features. i have an ipad but do not see that of any use.  it is a great alarm.  if u r almost deaf, you can hear her alarm in the bedroom from out in the living room, so that is reason enough to keep her.it is fun to ask random questions to hear her response.  she does not seem to be very smartbon politics yet.', \"i think this is the 5th one i've purchased. i'm working on getting one in every room of my house. i really like what features they offer specifily playing music on all echos and controlling the lights throughout my house.\", 'looks great', 'love it! i’ve listened to songs i haven’t heard since childhood! i get the news, weather, information! it’s great!']\n"
     ]
    }
   ],
   "source": [
    "df = spark.sql(\"select lower(verified_reviews) from alexa where verified_reviews is not null and verified_reviews <> 'verified_reviews'\")\n",
    "# Note how each row is returned as a row element\n",
    "print(df.rdd.take(1))\n",
    "\n",
    "# flatMap converts the row into a regular string, because there is only one column in each row\n",
    "# if the dataframe had two columns in it, this would not work\n",
    "reviewsRDD = df.rdd.flatMap(lambda x: x)\n",
    "print(df.count(), reviewsRDD.count())\n",
    "print(reviewsRDD.take(10))"
   ]
  },
  {
   "cell_type": "markdown",
   "metadata": {},
   "source": [
    "### nltk has a function to split text up into sentences"
   ]
  },
  {
   "cell_type": "code",
   "execution_count": 6,
   "metadata": {},
   "outputs": [
    {
     "name": "stderr",
     "output_type": "stream",
     "text": [
      "[nltk_data] Downloading package punkt to /home/student/nltk_data...\n",
      "[nltk_data]   Package punkt is already up-to-date!\n"
     ]
    },
    {
     "data": {
      "text/plain": [
       "[['love my echo!'],\n",
       " ['loved it!'],\n",
       " ['sometimes while playing a game, you can answer a question correctly but alexa says you got it wrong and answers the same as you.',\n",
       "  'i like being able to turn lights on and off while away from home.'],\n",
       " ['i have had a lot of fun with this thing.',\n",
       "  'my 4 yr old learns about dinosaurs, i control the lights and play games like categories.',\n",
       "  'has nice sound when playing music as well.'],\n",
       " ['music'],\n",
       " ['i received the echo as a gift.',\n",
       "  'i needed another bluetooth or something to play music easily accessible, and found this smart speaker.',\n",
       "  'can’t wait to see what else it can do.'],\n",
       " ['without having a cellphone, i cannot use many of her features.',\n",
       "  'i have an ipad but do not see that of any use.',\n",
       "  'it is a great alarm.',\n",
       "  'if u r almost deaf, you can hear her alarm in the bedroom from out in the living room, so that is reason enough to keep her.it is fun to ask random questions to hear her response.',\n",
       "  'she does not seem to be very smartbon politics yet.'],\n",
       " [\"i think this is the 5th one i've purchased.\",\n",
       "  \"i'm working on getting one in every room of my house.\",\n",
       "  'i really like what features they offer specifily playing music on all echos and controlling the lights throughout my house.'],\n",
       " ['looks great'],\n",
       " ['love it!',\n",
       "  'i’ve listened to songs i haven’t heard since childhood!',\n",
       "  'i get the news, weather, information!',\n",
       "  'it’s great!']]"
      ]
     },
     "execution_count": 6,
     "metadata": {},
     "output_type": "execute_result"
    }
   ],
   "source": [
    "import nltk\n",
    "# punctuation tokenizer, needs to be downloaded at least once. \n",
    "# make sure not to put this inside a loop or it will call it many times and slow down performance\n",
    "nltk.download('punkt')\n",
    "sentenceTokenizeRDD = reviewsRDD.map(lambda x : nltk.sent_tokenize(x))\n",
    "sentenceTokenizeRDD.take(10)"
   ]
  },
  {
   "cell_type": "markdown",
   "metadata": {},
   "source": [
    "### Once the reviews are broken into sentences, let's break each sentence into a list of words."
   ]
  },
  {
   "cell_type": "code",
   "execution_count": 7,
   "metadata": {},
   "outputs": [
    {
     "data": {
      "text/plain": [
       "[['love', 'my', 'echo!'],\n",
       " ['loved', 'it!'],\n",
       " ['sometimes',\n",
       "  'while',\n",
       "  'playing',\n",
       "  'a',\n",
       "  'game,',\n",
       "  'you',\n",
       "  'can',\n",
       "  'answer',\n",
       "  'a',\n",
       "  'question',\n",
       "  'correctly',\n",
       "  'but',\n",
       "  'alexa',\n",
       "  'says',\n",
       "  'you',\n",
       "  'got',\n",
       "  'it',\n",
       "  'wrong',\n",
       "  'and',\n",
       "  'answers',\n",
       "  'the',\n",
       "  'same',\n",
       "  'as',\n",
       "  'you.',\n",
       "  'i',\n",
       "  'like',\n",
       "  'being',\n",
       "  'able',\n",
       "  'to',\n",
       "  'turn',\n",
       "  'lights',\n",
       "  'on',\n",
       "  'and',\n",
       "  'off',\n",
       "  'while',\n",
       "  'away',\n",
       "  'from',\n",
       "  'home.'],\n",
       " ['i',\n",
       "  'have',\n",
       "  'had',\n",
       "  'a',\n",
       "  'lot',\n",
       "  'of',\n",
       "  'fun',\n",
       "  'with',\n",
       "  'this',\n",
       "  'thing.',\n",
       "  'my',\n",
       "  '4',\n",
       "  'yr',\n",
       "  'old',\n",
       "  'learns',\n",
       "  'about',\n",
       "  'dinosaurs,',\n",
       "  'i',\n",
       "  'control',\n",
       "  'the',\n",
       "  'lights',\n",
       "  'and',\n",
       "  'play',\n",
       "  'games',\n",
       "  'like',\n",
       "  'categories.',\n",
       "  'has',\n",
       "  'nice',\n",
       "  'sound',\n",
       "  'when',\n",
       "  'playing',\n",
       "  'music',\n",
       "  'as',\n",
       "  'well.'],\n",
       " ['music'],\n",
       " ['i',\n",
       "  'received',\n",
       "  'the',\n",
       "  'echo',\n",
       "  'as',\n",
       "  'a',\n",
       "  'gift.',\n",
       "  'i',\n",
       "  'needed',\n",
       "  'another',\n",
       "  'bluetooth',\n",
       "  'or',\n",
       "  'something',\n",
       "  'to',\n",
       "  'play',\n",
       "  'music',\n",
       "  'easily',\n",
       "  'accessible,',\n",
       "  'and',\n",
       "  'found',\n",
       "  'this',\n",
       "  'smart',\n",
       "  'speaker.',\n",
       "  'can’t',\n",
       "  'wait',\n",
       "  'to',\n",
       "  'see',\n",
       "  'what',\n",
       "  'else',\n",
       "  'it',\n",
       "  'can',\n",
       "  'do.'],\n",
       " ['without',\n",
       "  'having',\n",
       "  'a',\n",
       "  'cellphone,',\n",
       "  'i',\n",
       "  'cannot',\n",
       "  'use',\n",
       "  'many',\n",
       "  'of',\n",
       "  'her',\n",
       "  'features.',\n",
       "  'i',\n",
       "  'have',\n",
       "  'an',\n",
       "  'ipad',\n",
       "  'but',\n",
       "  'do',\n",
       "  'not',\n",
       "  'see',\n",
       "  'that',\n",
       "  'of',\n",
       "  'any',\n",
       "  'use.',\n",
       "  'it',\n",
       "  'is',\n",
       "  'a',\n",
       "  'great',\n",
       "  'alarm.',\n",
       "  'if',\n",
       "  'u',\n",
       "  'r',\n",
       "  'almost',\n",
       "  'deaf,',\n",
       "  'you',\n",
       "  'can',\n",
       "  'hear',\n",
       "  'her',\n",
       "  'alarm',\n",
       "  'in',\n",
       "  'the',\n",
       "  'bedroom',\n",
       "  'from',\n",
       "  'out',\n",
       "  'in',\n",
       "  'the',\n",
       "  'living',\n",
       "  'room,',\n",
       "  'so',\n",
       "  'that',\n",
       "  'is',\n",
       "  'reason',\n",
       "  'enough',\n",
       "  'to',\n",
       "  'keep',\n",
       "  'her.it',\n",
       "  'is',\n",
       "  'fun',\n",
       "  'to',\n",
       "  'ask',\n",
       "  'random',\n",
       "  'questions',\n",
       "  'to',\n",
       "  'hear',\n",
       "  'her',\n",
       "  'response.',\n",
       "  'she',\n",
       "  'does',\n",
       "  'not',\n",
       "  'seem',\n",
       "  'to',\n",
       "  'be',\n",
       "  'very',\n",
       "  'smartbon',\n",
       "  'politics',\n",
       "  'yet.'],\n",
       " ['i',\n",
       "  'think',\n",
       "  'this',\n",
       "  'is',\n",
       "  'the',\n",
       "  '5th',\n",
       "  'one',\n",
       "  \"i've\",\n",
       "  'purchased.',\n",
       "  \"i'm\",\n",
       "  'working',\n",
       "  'on',\n",
       "  'getting',\n",
       "  'one',\n",
       "  'in',\n",
       "  'every',\n",
       "  'room',\n",
       "  'of',\n",
       "  'my',\n",
       "  'house.',\n",
       "  'i',\n",
       "  'really',\n",
       "  'like',\n",
       "  'what',\n",
       "  'features',\n",
       "  'they',\n",
       "  'offer',\n",
       "  'specifily',\n",
       "  'playing',\n",
       "  'music',\n",
       "  'on',\n",
       "  'all',\n",
       "  'echos',\n",
       "  'and',\n",
       "  'controlling',\n",
       "  'the',\n",
       "  'lights',\n",
       "  'throughout',\n",
       "  'my',\n",
       "  'house.'],\n",
       " ['looks', 'great'],\n",
       " ['love',\n",
       "  'it!',\n",
       "  'i’ve',\n",
       "  'listened',\n",
       "  'to',\n",
       "  'songs',\n",
       "  'i',\n",
       "  'haven’t',\n",
       "  'heard',\n",
       "  'since',\n",
       "  'childhood!',\n",
       "  'i',\n",
       "  'get',\n",
       "  'the',\n",
       "  'news,',\n",
       "  'weather,',\n",
       "  'information!',\n",
       "  'it’s',\n",
       "  'great!']]"
      ]
     },
     "execution_count": 7,
     "metadata": {},
     "output_type": "execute_result"
    }
   ],
   "source": [
    "wordTokenizeRDD = sentenceTokenizeRDD.map(lambda x : [word for line in x for word in line.split()])\n",
    "wordTokenizeRDD.take(10)"
   ]
  },
  {
   "cell_type": "markdown",
   "metadata": {},
   "source": [
    "### Next remove stop words, punctuation and empty spaces"
   ]
  },
  {
   "cell_type": "code",
   "execution_count": 8,
   "metadata": {},
   "outputs": [
    {
     "name": "stderr",
     "output_type": "stream",
     "text": [
      "[nltk_data] Downloading package stopwords to\n",
      "[nltk_data]     /home/student/nltk_data...\n",
      "[nltk_data]   Package stopwords is already up-to-date!\n"
     ]
    },
    {
     "data": {
      "text/plain": [
       "[['love', 'echo'],\n",
       " ['loved'],\n",
       " ['sometimes',\n",
       "  'playing',\n",
       "  'game',\n",
       "  'answer',\n",
       "  'question',\n",
       "  'correctly',\n",
       "  'alexa',\n",
       "  'says',\n",
       "  'got',\n",
       "  'wrong',\n",
       "  'answers',\n",
       "  'like',\n",
       "  'able',\n",
       "  'turn',\n",
       "  'lights',\n",
       "  'away',\n",
       "  'home'],\n",
       " ['lot',\n",
       "  'fun',\n",
       "  'thing',\n",
       "  '4',\n",
       "  'yr',\n",
       "  'old',\n",
       "  'learns',\n",
       "  'dinosaurs',\n",
       "  'control',\n",
       "  'lights',\n",
       "  'play',\n",
       "  'games',\n",
       "  'like',\n",
       "  'categories',\n",
       "  'nice',\n",
       "  'sound',\n",
       "  'playing',\n",
       "  'music',\n",
       "  'well'],\n",
       " ['music'],\n",
       " ['received',\n",
       "  'echo',\n",
       "  'gift',\n",
       "  'needed',\n",
       "  'another',\n",
       "  'bluetooth',\n",
       "  'something',\n",
       "  'play',\n",
       "  'music',\n",
       "  'easily',\n",
       "  'accessible',\n",
       "  'found',\n",
       "  'smart',\n",
       "  'speaker',\n",
       "  'can’t',\n",
       "  'wait',\n",
       "  'see',\n",
       "  'else'],\n",
       " ['without',\n",
       "  'cellphone',\n",
       "  'cannot',\n",
       "  'use',\n",
       "  'many',\n",
       "  'features',\n",
       "  'ipad',\n",
       "  'see',\n",
       "  'use',\n",
       "  'great',\n",
       "  'alarm',\n",
       "  'almost',\n",
       "  'deaf',\n",
       "  'hear',\n",
       "  'alarm',\n",
       "  'bedroom',\n",
       "  'living',\n",
       "  'room',\n",
       "  'reason',\n",
       "  'enough',\n",
       "  'keep',\n",
       "  'herit',\n",
       "  'fun',\n",
       "  'ask',\n",
       "  'random',\n",
       "  'questions',\n",
       "  'hear',\n",
       "  'response',\n",
       "  'seem',\n",
       "  'smartbon',\n",
       "  'politics',\n",
       "  'yet'],\n",
       " ['think',\n",
       "  '5th',\n",
       "  'one',\n",
       "  'purchased',\n",
       "  'working',\n",
       "  'getting',\n",
       "  'one',\n",
       "  'every',\n",
       "  'room',\n",
       "  'house',\n",
       "  'really',\n",
       "  'like',\n",
       "  'features',\n",
       "  'offer',\n",
       "  'specifily',\n",
       "  'playing',\n",
       "  'music',\n",
       "  'echos',\n",
       "  'controlling',\n",
       "  'lights',\n",
       "  'throughout',\n",
       "  'house'],\n",
       " ['looks', 'great'],\n",
       " ['love',\n",
       "  'i’ve',\n",
       "  'listened',\n",
       "  'songs',\n",
       "  'haven’t',\n",
       "  'heard',\n",
       "  'since',\n",
       "  'childhood',\n",
       "  'get',\n",
       "  'news',\n",
       "  'weather',\n",
       "  'information',\n",
       "  'it’s',\n",
       "  'great']]"
      ]
     },
     "execution_count": 8,
     "metadata": {},
     "output_type": "execute_result"
    }
   ],
   "source": [
    "import string\n",
    "# Must also make sure to download the stopwords list at least once.\n",
    "# Also be sure not to put this inside a loop\n",
    "nltk.download('stopwords')\n",
    "\n",
    "\n",
    "def removePunctuations(x):\n",
    "    list_punct = list(string.punctuation)\n",
    "    filtered = [''.join(c for c in s if c not in list_punct) for s in x] \n",
    "    filtered_space = [s for s in filtered if s] #remove empty space \n",
    "    return filtered\n",
    "\n",
    "def removeStopWords(x, language = 'english', additional_words = {}):\n",
    "    from nltk.corpus import stopwords\n",
    "    from nltk.corpus import stopwords\n",
    "    stop_words=set(stopwords.words(language)).union(additional_words)\n",
    "    filteredSentence = [w for w in x if not w in stop_words]\n",
    "    return filteredSentence\n",
    "\n",
    "nopunctRDD = wordTokenizeRDD.map(removePunctuations)\n",
    "\n",
    "# I decided to add a few extra stop words to the list just to show how easy it is\n",
    "stopwordsRDD = nopunctRDD.map(lambda x : removeStopWords(x, 'english', {'u', 'r', 'im', 'ive'}))\n",
    "stopwordsRDD.take(10)\n"
   ]
  },
  {
   "cell_type": "markdown",
   "metadata": {},
   "source": [
    "### wordnet is a library that has rules of the English language and how to parse it to standardize tense and case"
   ]
  },
  {
   "cell_type": "code",
   "execution_count": 9,
   "metadata": {},
   "outputs": [
    {
     "name": "stderr",
     "output_type": "stream",
     "text": [
      "[nltk_data] Downloading package wordnet to /home/student/nltk_data...\n",
      "[nltk_data]   Package wordnet is already up-to-date!\n"
     ]
    },
    {
     "data": {
      "text/plain": [
       "[['love', 'echo'],\n",
       " ['loved'],\n",
       " ['sometimes',\n",
       "  'playing',\n",
       "  'game',\n",
       "  'answer',\n",
       "  'question',\n",
       "  'correctly',\n",
       "  'alexa',\n",
       "  'say',\n",
       "  'got',\n",
       "  'wrong',\n",
       "  'answer',\n",
       "  'like',\n",
       "  'able',\n",
       "  'turn',\n",
       "  'light',\n",
       "  'away',\n",
       "  'home'],\n",
       " ['lot',\n",
       "  'fun',\n",
       "  'thing',\n",
       "  '4',\n",
       "  'yr',\n",
       "  'old',\n",
       "  'learns',\n",
       "  'dinosaur',\n",
       "  'control',\n",
       "  'light',\n",
       "  'play',\n",
       "  'game',\n",
       "  'like',\n",
       "  'category',\n",
       "  'nice',\n",
       "  'sound',\n",
       "  'playing',\n",
       "  'music',\n",
       "  'well'],\n",
       " ['music'],\n",
       " ['received',\n",
       "  'echo',\n",
       "  'gift',\n",
       "  'needed',\n",
       "  'another',\n",
       "  'bluetooth',\n",
       "  'something',\n",
       "  'play',\n",
       "  'music',\n",
       "  'easily',\n",
       "  'accessible',\n",
       "  'found',\n",
       "  'smart',\n",
       "  'speaker',\n",
       "  'can’t',\n",
       "  'wait',\n",
       "  'see',\n",
       "  'else'],\n",
       " ['without',\n",
       "  'cellphone',\n",
       "  'cannot',\n",
       "  'use',\n",
       "  'many',\n",
       "  'feature',\n",
       "  'ipad',\n",
       "  'see',\n",
       "  'use',\n",
       "  'great',\n",
       "  'alarm',\n",
       "  'almost',\n",
       "  'deaf',\n",
       "  'hear',\n",
       "  'alarm',\n",
       "  'bedroom',\n",
       "  'living',\n",
       "  'room',\n",
       "  'reason',\n",
       "  'enough',\n",
       "  'keep',\n",
       "  'herit',\n",
       "  'fun',\n",
       "  'ask',\n",
       "  'random',\n",
       "  'question',\n",
       "  'hear',\n",
       "  'response',\n",
       "  'seem',\n",
       "  'smartbon',\n",
       "  'politics',\n",
       "  'yet'],\n",
       " ['think',\n",
       "  '5th',\n",
       "  'one',\n",
       "  'purchased',\n",
       "  'working',\n",
       "  'getting',\n",
       "  'one',\n",
       "  'every',\n",
       "  'room',\n",
       "  'house',\n",
       "  'really',\n",
       "  'like',\n",
       "  'feature',\n",
       "  'offer',\n",
       "  'specifily',\n",
       "  'playing',\n",
       "  'music',\n",
       "  'echo',\n",
       "  'controlling',\n",
       "  'light',\n",
       "  'throughout',\n",
       "  'house'],\n",
       " ['look', 'great'],\n",
       " ['love',\n",
       "  'i’ve',\n",
       "  'listened',\n",
       "  'song',\n",
       "  'haven’t',\n",
       "  'heard',\n",
       "  'since',\n",
       "  'childhood',\n",
       "  'get',\n",
       "  'news',\n",
       "  'weather',\n",
       "  'information',\n",
       "  'it’s',\n",
       "  'great']]"
      ]
     },
     "execution_count": 9,
     "metadata": {},
     "output_type": "execute_result"
    }
   ],
   "source": [
    "# download at least once, but not inside a loopo\n",
    "nltk.download('wordnet')\n",
    "\n",
    "def lemmatize(x):\n",
    "    from nltk.stem import WordNetLemmatizer\n",
    "    lemmatizer = WordNetLemmatizer()\n",
    "    finalLem = [lemmatizer.lemmatize(s) for s in x]\n",
    "    return finalLem\n",
    "\n",
    "lemwordsRDD = stopwordsRDD.map(lemmatize)\n",
    "lemwordsRDD.take(10)"
   ]
  },
  {
   "cell_type": "markdown",
   "metadata": {},
   "source": [
    "### After splitting it into individual words to fix the words, let's put it back together as a sentence"
   ]
  },
  {
   "cell_type": "code",
   "execution_count": 10,
   "metadata": {},
   "outputs": [
    {
     "data": {
      "text/plain": [
       "['love echo',\n",
       " 'loved',\n",
       " 'sometimes playing game answer question correctly alexa say got wrong answer like able turn light away home',\n",
       " 'lot fun thing 4 yr old learns dinosaur control light play game like category nice sound playing music well',\n",
       " 'music',\n",
       " 'received echo gift needed another bluetooth something play music easily accessible found smart speaker can’t wait see else',\n",
       " 'without cellphone cannot use many feature ipad see use great alarm almost deaf hear alarm bedroom living room reason enough keep herit fun ask random question hear response seem smartbon politics yet',\n",
       " 'think 5th one purchased working getting one every room house really like feature offer specifily playing music echo controlling light throughout house',\n",
       " 'look great',\n",
       " 'love i’ve listened song haven’t heard since childhood get news weather information it’s great']"
      ]
     },
     "execution_count": 10,
     "metadata": {},
     "output_type": "execute_result"
    }
   ],
   "source": [
    "def joinTokensFunct(x):\n",
    "    joinedTokens_list = []\n",
    "    x = \" \".join(x)\n",
    "    return x\n",
    "joinedTokens = lemwordsRDD.map(joinTokensFunct)\n",
    "joinedTokens.take(10)"
   ]
  },
  {
   "cell_type": "markdown",
   "metadata": {},
   "source": [
    "### Perceptron tagger goes through and adds additional information on words by adding things like part of speech\n",
    "### Finds combinations of words that belong together to be treated as a phrase instead of individually"
   ]
  },
  {
   "cell_type": "code",
   "execution_count": 11,
   "metadata": {},
   "outputs": [
    {
     "name": "stderr",
     "output_type": "stream",
     "text": [
      "[nltk_data] Downloading package averaged_perceptron_tagger to\n",
      "[nltk_data]     /home/student/nltk_data...\n",
      "[nltk_data]   Package averaged_perceptron_tagger is already up-to-\n",
      "[nltk_data]       date!\n"
     ]
    },
    {
     "data": {
      "text/plain": [
       "[['love echo'],\n",
       " [],\n",
       " ['game', 'question', 'wrong answer', 'able turn', 'home'],\n",
       " ['lot fun thing',\n",
       "  'yr',\n",
       "  'dinosaur control light play game',\n",
       "  'category nice sound playing music well'],\n",
       " ['music'],\n",
       " ['echo gift', 'bluetooth something', 'music', 'smart speaker', 'see'],\n",
       " ['cellphone cannot',\n",
       "  'many feature ipad',\n",
       "  'great alarm',\n",
       "  'deaf hear alarm bedroom living room reason enough keep herit fun ask random question',\n",
       "  'response',\n",
       "  'smartbon politics'],\n",
       " ['room house', 'like feature', 'music echo', 'house'],\n",
       " ['look'],\n",
       " ['love', 'heard', 'childhood', 'news weather information']]"
      ]
     },
     "execution_count": 11,
     "metadata": {},
     "output_type": "execute_result"
    }
   ],
   "source": [
    "nltk.download('averaged_perceptron_tagger')\n",
    "\n",
    "def extractPhrase(x):\n",
    "    from nltk.corpus import stopwords\n",
    "    stop_words=set(stopwords.words('english'))\n",
    "    def leaves(tree):\n",
    "        \"\"\"Finds NP (nounphrase) leaf nodes of a chunk tree.\"\"\"\n",
    "        for subtree in tree.subtrees(filter = lambda t: t.label()=='NP'):\n",
    "            yield subtree.leaves()\n",
    "    \n",
    "    def get_terms(tree):\n",
    "        for leaf in leaves(tree):\n",
    "            term = [w for w,t in leaf if not w in stop_words]\n",
    "            yield term \n",
    "            \n",
    "    sentence_re = r'(?:(?:[A-Z])(?:.[A-Z])+.?)|(?:\\w+(?:-\\w+)*)|(?:\\$?\\d+(?:.\\d+)?%?)|(?:...|)(?:[][.,;\"\\'?():-_`])'\n",
    "    grammar = r\"\"\"\n",
    "    NBAR:\n",
    "        {<NN.*|JJ>*<NN.*>}  # Nouns and Adjectives, terminated with Nouns\n",
    "        \n",
    "    NP:\n",
    "        {<NBAR>}\n",
    "        {<NBAR><IN><NBAR>}  # Above, connected with in/of/etc...\n",
    "    \"\"\"\n",
    "    chunker = nltk.RegexpParser(grammar)\n",
    "    tokens = nltk.regexp_tokenize(x,sentence_re)\n",
    "    postoks = nltk.tag.pos_tag(tokens) #Part of speech tagging \n",
    "    tree = chunker.parse(postoks) #chunking\n",
    "    terms = get_terms(tree)\n",
    "    temp_phrases = []\n",
    "    for term in terms:\n",
    "        if len(term):\n",
    "            temp_phrases.append(' '.join(term))\n",
    "    \n",
    "    finalPhrase = [w for w in temp_phrases if w] #remove empty lists\n",
    "    return finalPhrase\n",
    "\n",
    "extractphraseRDD = joinedTokens.map(extractPhrase)\n",
    "extractphraseRDD.take(10)"
   ]
  },
  {
   "cell_type": "markdown",
   "metadata": {},
   "source": [
    "### Let's do a quick analysis of what are the most common phrases.\n",
    "### Could also have done this on indivual words instead by skipping the previous step."
   ]
  },
  {
   "cell_type": "code",
   "execution_count": 12,
   "metadata": {},
   "outputs": [
    {
     "name": "stdout",
     "output_type": "stream",
     "text": [
      "[('work', 156), ('love', 142), ('alexa', 65), ('music', 59), ('use', 50), ('speaker', 50), ('dot', 47), ('echo', 44), ('day', 42), ('thing', 42), ('product', 42), ('device', 40), ('everything', 39), ('echo dot', 39), ('great product', 37), ('time', 33), ('sound', 32), ('amazon', 29), ('question', 28), ('house', 28)]\n",
      "top ten words\n",
      "[('love', 998), ('echo', 855), ('great', 717), ('alexa', 586), ('work', 532), ('music', 524), ('like', 505), ('use', 465), ('', 425), ('sound', 416)]\n"
     ]
    }
   ],
   "source": [
    "freqDistRDD = extractphraseRDD.flatMap(lambda x : nltk.FreqDist(x).most_common()).map(lambda x: x).reduceByKey(lambda x,y : x+y).sortBy(lambda x: x[1], ascending = False)\n",
    "print(freqDistRDD.take(20))\n",
    "\n",
    "print('top ten words')\n",
    "print(lemwordsRDD.flatMap(lambda x : nltk.FreqDist(x).most_common()).map(lambda x: x).reduceByKey(lambda x,y : x+y).sortBy(lambda x: x[1], ascending = False).take(10))\n",
    "\n"
   ]
  },
  {
   "cell_type": "markdown",
   "metadata": {},
   "source": [
    "### Let's take the phrase counts and turn them into visualizations by bringing these small sets of calculated results to pandas"
   ]
  },
  {
   "cell_type": "code",
   "execution_count": 13,
   "metadata": {},
   "outputs": [
    {
     "data": {
      "text/plain": [
       "<matplotlib.axes._subplots.AxesSubplot at 0x7efeec59c668>"
      ]
     },
     "execution_count": 13,
     "metadata": {},
     "output_type": "execute_result"
    },
    {
     "data": {
      "image/png": "[encoded data removed]",
      "text/plain": [
       "<Figure size 720x576 with 1 Axes>"
      ]
     },
     "metadata": {
      "needs_background": "light"
     },
     "output_type": "display_data"
    }
   ],
   "source": [
    "%matplotlib inline\n",
    "freqDistDF = freqDistRDD.toDF() #converting RDD to spark dataframe\n",
    "freqDistDF.createOrReplaceTempView(\"myTable\") \n",
    "df2 = spark.sql(\"SELECT _1 AS Keywords, _2 as Frequency from myTable limit 20\")\n",
    "pandD = df2.toPandas()\n",
    "pandD.plot.barh(x='Keywords', y='Frequency', rot=1, figsize=(10,8))"
   ]
  },
  {
   "cell_type": "markdown",
   "metadata": {},
   "source": [
    "### Even better, make it into a word cloud"
   ]
  },
  {
   "cell_type": "code",
   "execution_count": null,
   "metadata": {},
   "outputs": [],
   "source": [
    "#! pip3 install WordCloud\n",
    "%matplotlib inline \n",
    "from wordcloud import WordCloud\n",
    "wordcloudConvertDF = pandD.set_index('Keywords').T.to_dict('records')\n",
    "wordcloud = WordCloud(width=800, height=500, random_state=21, max_font_size=100, relative_scaling=0.5, colormap='Dark2').generate_from_frequencies(dict(*wordcloudConvertDF))\n",
    "plt.figure(figsize=(14, 10))    \n",
    "plt.imshow(wordcloud, interpolation=\"bilinear\")\n",
    "plt.axis('off')\n",
    "plt.show()"
   ]
  },
  {
   "cell_type": "markdown",
   "metadata": {},
   "source": [
    "### Word sentiment will attempt to automatically classify the content into Positive, Negative or Neutral using basic understanding of word meanings in context."
   ]
  },
  {
   "cell_type": "code",
   "execution_count": null,
   "metadata": {},
   "outputs": [],
   "source": [
    "# Download this once and not inside a loop\n",
    "nltk.download('vader_lexicon')\n",
    "\n",
    "def wordSentiment(x):\n",
    "    from nltk.sentiment.vader import SentimentIntensityAnalyzer\n",
    "    analyzer = SentimentIntensityAnalyzer() \n",
    "    senti_list_temp = []\n",
    "    for i in x:\n",
    "        y = ''.join(i) \n",
    "        vs = analyzer.polarity_scores(y)\n",
    "        senti_list_temp.append((y, vs))\n",
    "        senti_list_temp = [w for w in senti_list_temp if w]\n",
    "    sentiment_list  = []\n",
    "    for j in senti_list_temp:\n",
    "        first = j[0]\n",
    "        second = j[1]\n",
    "    \n",
    "        for (k,v) in second.items():\n",
    "            if k == 'compound':\n",
    "                if v < 0.0:\n",
    "                    sentiment_list.append((first, \"Negative\"))\n",
    "                elif v == 0.0:\n",
    "                    sentiment_list.append((first, \"Neutral\"))\n",
    "                else:\n",
    "                    sentiment_list.append((first, \"Positive\"))\n",
    "    return sentiment_list\n",
    "\n",
    "print(extractphraseRDD.take(1))\n",
    "sentimentRDD = extractphraseRDD.map(wordSentiment)\n",
    "print(sentimentRDD.take(10))\n",
    "\n"
   ]
  },
  {
   "cell_type": "markdown",
   "metadata": {},
   "source": [
    "### The wordsentiment function we wrote takes a list of phrases and returns a list of tuples of phrases and sentiments. We could write another function to take a single string, but it's just easier to map the string to a single element list and back again"
   ]
  },
  {
   "cell_type": "code",
   "execution_count": null,
   "metadata": {},
   "outputs": [],
   "source": [
    "print(joinedTokens.take(1))\n",
    "sentencesentimentRDD = joinedTokens.map(lambda x : [x]).map(wordSentiment)\n",
    "print(sentencesentimentRDD.take(10))"
   ]
  },
  {
   "cell_type": "code",
   "execution_count": null,
   "metadata": {},
   "outputs": [],
   "source": [
    "#sentencesentimentRDD.filter(lambda x : x[0][1] == 'Negative').take(3)"
   ]
  },
  {
   "cell_type": "markdown",
   "metadata": {},
   "source": [
    "### Do an old school reduceByKey to see how many items we have of each sentiment"
   ]
  },
  {
   "cell_type": "code",
   "execution_count": null,
   "metadata": {},
   "outputs": [],
   "source": [
    "def sentimentCount(x):\n",
    "    return x.flatMap(lambda x : x).map(lambda x : (x[1], 1)).reduceByKey(lambda x, y : x + y)\n",
    "\n",
    "print('phrase count')\n",
    "print(sentimentCount(sentimentRDD).collect())\n",
    "print('review count')\n",
    "print(sentimentCount(sentencesentimentRDD).collect())"
   ]
  },
  {
   "cell_type": "markdown",
   "metadata": {},
   "source": [
    "### Wrap it all up in a convenient helper function"
   ]
  },
  {
   "cell_type": "code",
   "execution_count": 4,
   "metadata": {},
   "outputs": [
    {
     "name": "stderr",
     "output_type": "stream",
     "text": [
      "[nltk_data] Downloading package punkt to /home/student/nltk_data...\n",
      "[nltk_data]   Package punkt is already up-to-date!\n",
      "[nltk_data] Downloading package stopwords to\n",
      "[nltk_data]     /home/student/nltk_data...\n",
      "[nltk_data]   Package stopwords is already up-to-date!\n",
      "[nltk_data] Downloading package wordnet to /home/student/nltk_data...\n",
      "[nltk_data]   Package wordnet is already up-to-date!\n",
      "[nltk_data] Downloading package averaged_perceptron_tagger to\n",
      "[nltk_data]     /home/student/nltk_data...\n",
      "[nltk_data]   Package averaged_perceptron_tagger is already up-to-\n",
      "[nltk_data]       date!\n"
     ]
    }
   ],
   "source": [
    "nltk.download('punkt')\n",
    "nltk.download('stopwords')\n",
    "nltk.download('wordnet')\n",
    "nltk.download('averaged_perceptron_tagger')\n",
    "\n",
    "def processText(df, language = 'english', additionalWords = {'u', 'r', 'im', 'ive'}):\n",
    "    import nltk\n",
    "    import string\n",
    "\n",
    "    def removePunctuations(x):\n",
    "        list_punct = list(string.punctuation)\n",
    "        filtered = [''.join(c for c in s if c not in list_punct) for s in x] \n",
    "        filtered_space = [s for s in filtered if s] #remove empty space \n",
    "        return filtered\n",
    "\n",
    "    def removeStopWords(x, language = 'english', additional_words = {}):\n",
    "        from nltk.corpus import stopwords\n",
    "        from nltk.corpus import stopwords\n",
    "        stop_words=set(stopwords.words(language)).union(additional_words)\n",
    "        filteredSentence = [w for w in x if not w in stop_words]\n",
    "        return filteredSentence\n",
    "\n",
    "    def lemmatize(x):\n",
    "        from nltk.stem import WordNetLemmatizer\n",
    "        lemmatizer = WordNetLemmatizer()\n",
    "        finalLem = [lemmatizer.lemmatize(s) for s in x]\n",
    "        return finalLem\n",
    "\n",
    "    def joinTokensFunct(x):\n",
    "        joinedTokens_list = []\n",
    "        x = \" \".join(x)\n",
    "        return x\n",
    "\n",
    "    def extractPhrase(x):\n",
    "        from nltk.corpus import stopwords\n",
    "        stop_words=set(stopwords.words('english'))\n",
    "        def leaves(tree):\n",
    "            \"\"\"Finds NP (nounphrase) leaf nodes of a chunk tree.\"\"\"\n",
    "            for subtree in tree.subtrees(filter = lambda t: t.label()=='NP'):\n",
    "                yield subtree.leaves()\n",
    "\n",
    "        def get_terms(tree):\n",
    "            for leaf in leaves(tree):\n",
    "                term = [w for w,t in leaf if not w in stop_words]\n",
    "                yield term \n",
    "\n",
    "        sentence_re = r'(?:(?:[A-Z])(?:.[A-Z])+.?)|(?:\\w+(?:-\\w+)*)|(?:\\$?\\d+(?:.\\d+)?%?)|(?:...|)(?:[][.,;\"\\'?():-_`])'\n",
    "        grammar = r\"\"\"\n",
    "        NBAR:\n",
    "            {<NN.*|JJ>*<NN.*>}  # Nouns and Adjectives, terminated with Nouns\n",
    "\n",
    "        NP:\n",
    "            {<NBAR>}\n",
    "            {<NBAR><IN><NBAR>}  # Above, connected with in/of/etc...\n",
    "        \"\"\"\n",
    "        chunker = nltk.RegexpParser(grammar)\n",
    "        tokens = nltk.regexp_tokenize(x,sentence_re)\n",
    "        postoks = nltk.tag.pos_tag(tokens) #Part of speech tagging \n",
    "        tree = chunker.parse(postoks) #chunking\n",
    "        terms = get_terms(tree)\n",
    "        temp_phrases = []\n",
    "        for term in terms:\n",
    "            if len(term):\n",
    "                temp_phrases.append(' '.join(term))\n",
    "\n",
    "        finalPhrase = [w for w in temp_phrases if w] #remove empty lists\n",
    "        return finalPhrase\n",
    "\n",
    "    rdd = df.rdd.flatMap(lambda x: x)\n",
    "    sentence = rdd.map(lambda x : nltk.sent_tokenize(x))\n",
    "    word = sentence.map(lambda x : [word for line in x for word in line.split()])\n",
    "    nopunct = word.map(removePunctuations)\n",
    "    stopwords = nopunct.map(lambda x : removeStopWords(x, language, additionalWords))\n",
    "    lemwords = stopwords.map(lemmatize)\n",
    "    joinedTokens = lemwords.map(joinTokensFunct)\n",
    "    extractphrase = joinedTokens.map(extractPhrase)\n",
    "    return extractphrase\n",
    "\n",
    "def frequencyDistribution(x, plot = False):\n",
    "    df = x.flatMap(lambda x : nltk.FreqDist(x).most_common()).map(lambda x: x).reduceByKey(lambda x,y : x+y).sortBy(lambda x: x[1], ascending = False).toDF()\n",
    "    if plot:\n",
    "        df.createOrReplaceTempView(\"myTable\") \n",
    "        df2 = spark.sql(\"SELECT _1 AS Keywords, _2 as Frequency from myTable limit 20\")\n",
    "        pandD = df2.toPandas()\n",
    "        pandD.plot.barh(x='Keywords', y='Frequency', rot=1, figsize=(10,8))\n",
    "    return df\n",
    "\n",
    "def wordCloud(x):\n",
    "    from wordcloud import WordCloud\n",
    "    x.createOrReplaceTempView(\"myTable\") \n",
    "    df2 = spark.sql(\"SELECT _1 AS Keywords, _2 as Frequency from myTable limit 20\")\n",
    "    pandD = df2.toPandas()\n",
    "    wordcloudConvertDF = pandD.set_index('Keywords').T.to_dict('records')\n",
    "    wordcloud = WordCloud(width=800, height=500, random_state=21, max_font_size=100, relative_scaling=0.5, colormap='Dark2').generate_from_frequencies(dict(*wordcloudConvertDF))\n",
    "    plt.figure(figsize=(14, 10))    \n",
    "    plt.imshow(wordcloud, interpolation=\"bilinear\")\n",
    "    plt.axis('off')\n",
    "    plt.show()\n",
    "    "
   ]
  },
  {
   "cell_type": "markdown",
   "metadata": {},
   "source": [
    "### Using the helper functions we can just select and fix the reviews from the original dataframe using spark sql in one line"
   ]
  },
  {
   "cell_type": "code",
   "execution_count": 5,
   "metadata": {},
   "outputs": [
    {
     "name": "stdout",
     "output_type": "stream",
     "text": [
      "[Row(_1='work', _2=156), Row(_1='love', _2=142), Row(_1='alexa', _2=65), Row(_1='music', _2=59), Row(_1='use', _2=50), Row(_1='speaker', _2=50), Row(_1='dot', _2=47), Row(_1='echo', _2=44), Row(_1='day', _2=42), Row(_1='thing', _2=42), Row(_1='product', _2=42), Row(_1='device', _2=40), Row(_1='everything', _2=39), Row(_1='echo dot', _2=39), Row(_1='great product', _2=37), Row(_1='time', _2=33), Row(_1='sound', _2=32), Row(_1='amazon', _2=29), Row(_1='question', _2=28), Row(_1='house', _2=28)]\n"
     ]
    },
    {
     "data": {
      "image/png": "[encoded data removed]",
      "text/plain": [
       "<Figure size 1008x720 with 1 Axes>"
      ]
     },
     "metadata": {
      "needs_background": "light"
     },
     "output_type": "display_data"
    }
   ],
   "source": [
    "%matplotlib inline\n",
    "x = processText(spark.sql(\"select lower(verified_reviews) from alexa where verified_reviews is not null and verified_reviews <> 'verified_reviews'\"))\n",
    "freq = frequencyDistribution(x, False)\n",
    "print(freq.take(20))\n",
    "\n",
    "wordCloud(freq)"
   ]
  },
  {
   "cell_type": "markdown",
   "metadata": {},
   "source": [
    "### Using the results of the helper function, make a dataframe of the reviews and sentiments"
   ]
  },
  {
   "cell_type": "code",
   "execution_count": null,
   "metadata": {},
   "outputs": [],
   "source": [
    "sentiment2RDD = joinedTokens.map(lambda x : [x]).map(wordSentiment).map(lambda x : x[0])\n",
    "\n",
    "print(sentiment2RDD.take(10))\n",
    "sentimentDF = spark.createDataFrame(sentiment2RDD, schema='review:string, sentiment:string')\n",
    "display(sentimentDF)\n"
   ]
  },
  {
   "cell_type": "markdown",
   "metadata": {},
   "source": [
    "### Use a pipline to change the sentiment word into an index and tokenize and convert the review text into an ML shaped dataframe"
   ]
  },
  {
   "cell_type": "code",
   "execution_count": null,
   "metadata": {},
   "outputs": [],
   "source": [
    "from pyspark.ml.feature import HashingTF, IDF, Tokenizer, StringIndexer, OneHotEncoderEstimator\n",
    "from pyspark.ml.pipeline import Pipeline\n",
    "\n",
    "stages = [ StringIndexer(inputCol = 'sentiment', outputCol = 'label')\n",
    "         , Tokenizer(inputCol=\"review\", outputCol=\"words\")\n",
    "         , HashingTF(inputCol=\"words\", outputCol=\"rawFeatures\", numFeatures=20)\n",
    "         , IDF(inputCol=\"rawFeatures\", outputCol=\"features\")\n",
    "         ]\n",
    "          \n",
    "\n",
    "pipeline = Pipeline(stages = stages)\n",
    "dfMLFitted = pipeline.fit(sentimentDF)\n",
    "dfML = dfMLFitted.transform(sentimentDF)\n",
    "#display(dfML) "
   ]
  },
  {
   "cell_type": "markdown",
   "metadata": {},
   "source": [
    "### Let's explore the monitoring page by going to localhost:4040"
   ]
  },
  {
   "cell_type": "markdown",
   "metadata": {},
   "source": [
    "### There's a lot of steps involved so since we may want to use this ML set many times, we can avoid recalculating the same transformations multiple times by persisting a copy of the dataframe in memory for the duration of this spark session or until we decide to unpersist it\n",
    "#### There are many options for persisting to memory or disk or both"
   ]
  },
  {
   "cell_type": "markdown",
   "metadata": {},
   "source": [
    "p = pyspark.StorageLevel(useDisk = True, useMemory = True, useOffHeap = False, deserialized = True, replication = 1)\n",
    "\n",
    "DISK_ONLY\n",
    "StorageLevel(True, False, False, False, 1)\n",
    "\n",
    "DISK_ONLY_2\n",
    "StorageLevel(True, False, False, False, 2)\n",
    "\n",
    "MEMORY_AND_DISK\n",
    "StorageLevel(True, True, False, False, 1)\n",
    "\n",
    "MEMORY_AND_DISK_2\n",
    "StorageLevel(True, True, False, False, 2)\n",
    "\n",
    "MEMORY_AND_DISK_SER\n",
    "StorageLevel(True, True, False, False, 1)\n",
    "\n",
    "MEMORY_AND_DISK_SER_\n",
    "StorageLevel(True, True, False, False, 2)\n",
    "\n",
    "MEMORY_ONLY\n",
    "StorageLevel(False, True, False, False, 1)\n",
    "\n",
    "MEMORY_ONLY_2\n",
    "StorageLevel(False, True, False, False, 2)\n",
    "\n",
    "MEMORY_ONLY_SER\n",
    "StorageLevel(False, True, False, False, 1)\n",
    "\n",
    "MEMORY_ONLY_SER_2\n",
    "StorageLevel(False, True, False, False, 2)\n",
    "\n",
    "OFF_HEAP\n",
    "StorageLevel(True, True, True, False, 1)"
   ]
  },
  {
   "cell_type": "code",
   "execution_count": null,
   "metadata": {},
   "outputs": [],
   "source": [
    "import pyspark\n",
    "p = pyspark.StorageLevel(useDisk = True, useMemory = True, useOffHeap = False, deserialized = True, replication = 1)\n",
    "pyspark.StorageLevel(True, True, True, False, 1)\n",
    "#dfML.persist(pyspark.StorageLevel.MEMORY_AND_DISK)\n",
    "dfML.persist(p)\n",
    "display(dfML)\n",
    "train, test = dfML.randomSplit([.7,.3], seed = 100)\n",
    "train.take(1)"
   ]
  },
  {
   "cell_type": "markdown",
   "metadata": {},
   "source": [
    "### Switch to the browser and take a look now at the storage page"
   ]
  },
  {
   "cell_type": "markdown",
   "metadata": {},
   "source": [
    "### Let's just do a simple DecisionTreeClassifier on the ML dataset to predict which of the three labeled sentiments each review is"
   ]
  },
  {
   "cell_type": "code",
   "execution_count": null,
   "metadata": {},
   "outputs": [],
   "source": [
    "from pyspark.ml.classification import DecisionTreeClassifier\n",
    "dt = DecisionTreeClassifier(featuresCol = 'features', labelCol = 'label', maxDepth = 6)\n",
    "%time dtModel = dt.fit(train)\n",
    "%time dtPredictions, dtLog = pyh.predict_and_evaluate(dtModel, test)\n",
    "print(dtLog)\n"
   ]
  },
  {
   "cell_type": "markdown",
   "metadata": {},
   "source": [
    "### Take a look at a sample of each prediction"
   ]
  },
  {
   "cell_type": "code",
   "execution_count": null,
   "metadata": {},
   "outputs": [],
   "source": [
    "print(dtPredictions.where('prediction = 0.0').select('review').take(1))\n",
    "print(dtPredictions.where(\"prediction = 1.0 and review<>''\").select('review').take(1))\n",
    "print(dtPredictions.where('prediction = 2.0').select('review').take(1))"
   ]
  },
  {
   "cell_type": "markdown",
   "metadata": {},
   "source": [
    "### We could save the trained model and then make a prediction one at a time using a helper function"
   ]
  },
  {
   "cell_type": "code",
   "execution_count": null,
   "metadata": {},
   "outputs": [],
   "source": [
    "def predictSentiment(trainedModel, transformModel, x):\n",
    "    newReview = sc.parallelize([(x,)])\n",
    "    #print('RDD', newReview.collect())\n",
    "    newReviewDF = spark.createDataFrame(newReview, schema='review:string')\n",
    "    #print('DF', newReviewDF.collect())\n",
    "    newReviewML = transformModel.transform(newReviewDF)\n",
    "    #print('ML',newReviewML.collect())\n",
    "    newPrediction = trainedModel.transform(newReviewML.select('features'))\n",
    "    return newPrediction\n",
    "\n",
    "prediction = predictSentiment(dtModel, dfMLFitted, 'I really love love love love my alexa' )\n",
    "print (prediction.collect())\n"
   ]
  },
  {
   "cell_type": "code",
   "execution_count": null,
   "metadata": {},
   "outputs": [],
   "source": [
    "for review in ['I really love love love love my alexa', 'sent 85 year old dad talk constantly', 'device interact home filled apple device disappointing']:\n",
    "    print(predictSentiment(dtModel, dfMLFitted, review).select('prediction').collect())\n",
    "\n",
    "\n"
   ]
  },
  {
   "cell_type": "markdown",
   "metadata": {},
   "source": [
    "### The cached dataframe will disappear automatically when a session ends, but you can unpersist it whenever you want. Run the following and flip back to the Storage tab in the browser and see that it is gone."
   ]
  },
  {
   "cell_type": "code",
   "execution_count": null,
   "metadata": {},
   "outputs": [],
   "source": [
    "dfML.unpersist()"
   ]
  },
  {
   "cell_type": "markdown",
   "metadata": {},
   "source": [
    "### Create a simple RDD to demonstrate accumlators"
   ]
  },
  {
   "cell_type": "code",
   "execution_count": 2,
   "metadata": {},
   "outputs": [
    {
     "name": "stdout",
     "output_type": "stream",
     "text": [
      "[0, 2, 4, 6, 8, 10, 12, 14, 16, 18]\n"
     ]
    }
   ],
   "source": [
    "x0 = sc.parallelize(range(10))\n",
    "x1 = x0.map(lambda x : x * 2)\n",
    "print (x1.collect())\n"
   ]
  },
  {
   "cell_type": "markdown",
   "metadata": {},
   "source": [
    "### This won't work, so we need another way to do it"
   ]
  },
  {
   "cell_type": "code",
   "execution_count": 8,
   "metadata": {},
   "outputs": [
    {
     "name": "stdout",
     "output_type": "stream",
     "text": [
      "0\n"
     ]
    }
   ],
   "source": [
    "counter = 0\n",
    "def fun1(x):\n",
    "    global counter\n",
    "    counter += x\n",
    "    \n",
    "x0.foreach(fun1)\n",
    "print (counter)"
   ]
  },
  {
   "cell_type": "markdown",
   "metadata": {},
   "source": [
    "### Use an accumulator to create a global variable shared by all the workers for the job"
   ]
  },
  {
   "cell_type": "code",
   "execution_count": 7,
   "metadata": {},
   "outputs": [
    {
     "name": "stdout",
     "output_type": "stream",
     "text": [
      "45\n"
     ]
    }
   ],
   "source": [
    "counter = sc.accumulator(0)\n",
    "def fun2(x):\n",
    "    global counter\n",
    "    counter += x\n",
    "    \n",
    "x0.foreach(fun2)\n",
    "print (counter.value)\n",
    "    "
   ]
  },
  {
   "cell_type": "code",
   "execution_count": null,
   "metadata": {},
   "outputs": [],
   "source": []
  }
 ],
 "metadata": {
  "kernelspec": {
   "display_name": "Python 3",
   "language": "python",
   "name": "python3"
  },
  "language_info": {
   "codemirror_mode": {
    "name": "ipython",
    "version": 3
   },
   "file_extension": ".py",
   "mimetype": "text/x-python",
   "name": "python",
   "nbconvert_exporter": "python",
   "pygments_lexer": "ipython3",
   "version": "3.7.3"
  }
 },
 "nbformat": 4,
 "nbformat_minor": 2
}
