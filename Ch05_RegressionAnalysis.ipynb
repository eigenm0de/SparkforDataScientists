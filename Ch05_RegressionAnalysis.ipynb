{
  "nbformat": 4,
  "nbformat_minor": 0,
  "metadata": {
    "colab": {
      "name": "Ch05_RegressionAnalysis.ipynb",
      "provenance": [],
      "include_colab_link": true
    },
    "kernelspec": {
      "display_name": "Python 3",
      "language": "python",
      "name": "python3"
    },
    "language_info": {
      "codemirror_mode": {
        "name": "ipython",
        "version": 3
      },
      "file_extension": ".py",
      "mimetype": "text/x-python",
      "name": "python",
      "nbconvert_exporter": "python",
      "pygments_lexer": "ipython3",
      "version": "3.7.3"
    }
  },
  "cells": [
    {
      "cell_type": "markdown",
      "metadata": {
        "id": "view-in-github",
        "colab_type": "text"
      },
      "source": [
        "<a href=\"https://colab.research.google.com/github/roitraining/SparkforDataScientists/blob/Development/Ch05_RegressionAnalysis.ipynb\" target=\"_parent\"><img src=\"https://colab.research.google.com/assets/colab-badge.svg\" alt=\"Open In Colab\"/></a>"
      ]
    },
    {
      "cell_type": "markdown",
      "metadata": {
        "colab_type": "text",
        "id": "ng2_--H6q0C_"
      },
      "source": [
        "### Initialize the spark environment and load the helper functions we have provided."
      ]
    },
    {
      "cell_type": "code",
      "metadata": {
        "colab_type": "code",
        "id": "itiXd2lDq0DD",
        "colab": {}
      },
      "source": [
        "import sys\n",
        "\n",
        "rootpath = '/home/student/ROI/Spark/'\n",
        "datapath = f'{rootpath}datasets/'\n",
        "sys.path.append(rootpath)\n",
        "import pyspark_helpers as pyh\n",
        "from pyspark_helpers import *\n",
        "sc, spark, conf = initspark()\n",
        "\n",
        "import pandas as pd\n",
        "import matplotlib as mp\n",
        "import numpy\n",
        "from matplotlib import pyplot as plt\n",
        "\n",
        "from pyspark_helpers import display"
      ],
      "execution_count": 0,
      "outputs": []
    },
    {
      "cell_type": "markdown",
      "metadata": {
        "colab_type": "text",
        "id": "G73tQ_vxq0DJ"
      },
      "source": [
        "### Read in a simple dataset of Boston Housing Prices."
      ]
    },
    {
      "cell_type": "code",
      "metadata": {
        "colab_type": "code",
        "id": "ppQVsqVLq0DL",
        "colab": {}
      },
      "source": [
        "filename = 'boston.csv'\n",
        "df = spark.read.csv(f'{datapath}/finance/{filename}', header = True, inferSchema = True)\n",
        "display(df)\n",
        "df.printSchema()\n",
        "\n",
        "# Save a pointer to the raw data\n",
        "dfRaw = df\n",
        "\n"
      ],
      "execution_count": 0,
      "outputs": []
    },
    {
      "cell_type": "markdown",
      "metadata": {
        "id": "UwmV9slxOcIF",
        "colab_type": "text"
      },
      "source": [
        "### Let's look at the result of StringIndex to understand how it works."
      ]
    },
    {
      "cell_type": "code",
      "metadata": {
        "colab_type": "code",
        "id": "4Zm7_7wFq0DP",
        "colab": {}
      },
      "source": [
        "from pyspark.ml.feature import StringIndexer\n",
        "col = 'TOWN'\n",
        "indexer = StringIndexer(inputCol = col, outputCol = col+'_Index')\n",
        "x1 = indexer.fit(df).transform(df).select(col, col+'_Index').distinct()\n",
        "display(x1.orderBy(col))\n",
        "display(x1.orderBy(col+'_Index'))\n",
        "\n"
      ],
      "execution_count": 0,
      "outputs": []
    },
    {
      "cell_type": "markdown",
      "metadata": {
        "id": "ZcTeYXtQOcIM",
        "colab_type": "text"
      },
      "source": [
        "### Now try it with a convenient helper function we wrote to encode a list of multiple columns automatically."
      ]
    },
    {
      "cell_type": "code",
      "metadata": {
        "colab_type": "code",
        "id": "7_7AYzbiq0DS",
        "colab": {}
      },
      "source": [
        "x2 = pyh.StringIndexEncode(df, ['TOWN', 'TRACT'])\n",
        "display(x2)\n"
      ],
      "execution_count": 0,
      "outputs": []
    },
    {
      "cell_type": "markdown",
      "metadata": {
        "id": "OqhgLCT6OcIU",
        "colab_type": "text"
      },
      "source": [
        "### Let's take a look at how OneHotEncoder works."
      ]
    },
    {
      "cell_type": "code",
      "metadata": {
        "colab_type": "code",
        "id": "yhilC-8Yq0DX",
        "colab": {}
      },
      "source": [
        "col = 'TOWN'\n",
        "from pyspark.ml.feature import OneHotEncoderEstimator\n",
        "\n",
        "encoder = OneHotEncoderEstimator(inputCols=[col + '_Index'], outputCols=[col+'_Vector'])\n",
        "display(encoder.fit(x2).transform(x2).orderBy(col + '_Index'))\n"
      ],
      "execution_count": 0,
      "outputs": []
    },
    {
      "cell_type": "markdown",
      "metadata": {
        "id": "4g2nPj7vOcIZ",
        "colab_type": "text"
      },
      "source": [
        "### Now try our convenient helper function. Note that it automatically called StringIndexer first so we can work on the raw string version of the column."
      ]
    },
    {
      "cell_type": "code",
      "metadata": {
        "id": "yGarT3J0OcIa",
        "colab_type": "code",
        "colab": {}
      },
      "source": [
        "x = pyh.OneHotEncode(x2, ['TOWN', 'TRACT'])\n",
        "display (x)"
      ],
      "execution_count": 0,
      "outputs": []
    },
    {
      "cell_type": "markdown",
      "metadata": {
        "id": "kRf7EfsAOcIh",
        "colab_type": "text"
      },
      "source": [
        "### Let's have a look at the Median Value, which is the target we want to predict.\n",
        "Spark does not have plotting of it's own, instead we bring back the data to the driver to plot. So we need to make sure not to bring back more than the driver can handle.\n",
        "The .toPandas method will act like collect but bring it back as a Pandas DataFrame which is easily plotted"
      ]
    },
    {
      "cell_type": "code",
      "metadata": {
        "colab_type": "code",
        "id": "HAgDBLRwq0Db",
        "colab": {}
      },
      "source": [
        "%matplotlib inline\n",
        "import pandas as pd\n",
        "import seaborn as sns\n",
        "#sns.distplot(df.toPandas()['MEDV'])\n",
        "\n",
        "sns.distplot(df.toPandas()['MEDV'])\n",
        "plt.show()\n",
        "\n"
      ],
      "execution_count": 0,
      "outputs": []
    },
    {
      "cell_type": "markdown",
      "metadata": {
        "id": "o_1z9phtOcIm",
        "colab_type": "text"
      },
      "source": [
        "### There's some outlier data there past 48 so let's just eliminate it for now."
      ]
    },
    {
      "cell_type": "code",
      "metadata": {
        "id": "3IB_8HAcOcIn",
        "colab_type": "code",
        "colab": {}
      },
      "source": [
        "sns.distplot(df.where('MEDV < 48').toPandas()['MEDV'])\n",
        "print(df.columns)\n",
        "\n",
        "# If we want to filter out the outliers\n",
        "dfRaw = dfRaw.where('MEDV < 48')"
      ],
      "execution_count": 0,
      "outputs": []
    },
    {
      "cell_type": "markdown",
      "metadata": {
        "id": "aCZq4MjvOcIq",
        "colab_type": "text"
      },
      "source": [
        "### Let's put it all together now. Identify the categorical and numeric features and target.\n"
      ]
    },
    {
      "cell_type": "code",
      "metadata": {
        "colab_type": "code",
        "id": "cDJ269zdq0De",
        "colab": {}
      },
      "source": [
        "# if filename == 'avocado.csv':\n",
        "#     df = dfRaw.withColumnRenamed('4046','PLU4046').withColumnRenamed('4225','PLU4225').withColumnRenamed('4770','PLU4770')\n",
        "#     df.createOrReplaceTempView('dfRaw')\n",
        "#     df.printSchema()\n",
        "\n",
        "#     sql = '''select AveragePrice as target, `Total Volume` as totalvolume\n",
        "#     , PLU4046, PLU4225, PLU4770\n",
        "#     , `Small Bags` as smallbags, `Large Bags` as largebags, `XLarge Bags` as xlargebags\n",
        "#     , type, year, region\n",
        "#     FROM dfRaw'''\n",
        "\n",
        "#     df = spark.sql(sql)\n",
        "#     print(df)\n",
        "\n",
        "#     numeric_features = ['totalvolume','PLU4046', 'PLU4225', 'PLU4770', 'smallbags', 'largebags', 'xlargebags']\n",
        "#     categorical_features = ['type', 'year','region']\n",
        "#     target_label = 'target'\n",
        "#     print(df.take(1))\n",
        "# else:\n",
        "numeric_features = ['CRIM', 'ZN', 'INDUS', 'CHAS', 'NOX', 'RM', 'AGE', 'DIS', 'RAD', 'TAX', 'PTRATIO']\n",
        "categorical_features = ['TOWN'] #['TOWN', 'TRACT']\n",
        "target_label = 'MEDV'\n",
        "df = dfRaw.select(categorical_features + numeric_features + [target_label])\n",
        "df.printSchema()\n",
        "\n",
        "print ('******')\n",
        "display(df.describe())\n",
        "\n",
        "print ('******')\n",
        "display(df)"
      ],
      "execution_count": 0,
      "outputs": []
    },
    {
      "cell_type": "markdown",
      "metadata": {
        "colab_type": "text",
        "id": "egQIxlV9q0Di"
      },
      "source": [
        "### Turn the DataFrame into vectors.\n",
        "Use our MakeMLDataFrame helper function to automatically encode the list of categorical values, and bundle everything up into a features and target vector as needed for ML training\n"
      ]
    },
    {
      "cell_type": "code",
      "metadata": {
        "id": "Og4DWT-3OcI1",
        "colab_type": "code",
        "colab": {}
      },
      "source": [
        "dfML = pyh.MakeMLDataFrame(df, categorical_features, numeric_features, target_label, False)\n",
        "display(dfML)\n",
        "dfML.printSchema()\n",
        "\n"
      ],
      "execution_count": 0,
      "outputs": []
    },
    {
      "cell_type": "markdown",
      "metadata": {
        "colab_type": "text",
        "id": "kaAFz43aq0Do"
      },
      "source": [
        "### Split the dataset into train and test."
      ]
    },
    {
      "cell_type": "code",
      "metadata": {
        "colab_type": "code",
        "id": "6E281O5cq0Dp",
        "colab": {}
      },
      "source": [
        "train, test = dfML.randomSplit([.7,.3], seed = 1000)\n",
        "print (f'Training set row count {train.count()}')\n",
        "print (f'Testing set row count {test.count()}')\n",
        "\n"
      ],
      "execution_count": 0,
      "outputs": []
    },
    {
      "cell_type": "markdown",
      "metadata": {
        "colab_type": "text",
        "id": "dHewcp-Kq0Dv"
      },
      "source": [
        "### Run Linear Regression."
      ]
    },
    {
      "cell_type": "code",
      "metadata": {
        "colab_type": "code",
        "id": "w7meyIk2q0Dw",
        "colab": {}
      },
      "source": [
        "from pyspark.ml.regression import LinearRegression\n",
        "lr = LinearRegression(featuresCol = 'features', labelCol='target', maxIter=10, regParam=0.3, elasticNetParam=0.8)\n",
        "lrModel = lr.fit(train)\n",
        "print(\"Coefficients: \" + str(lrModel.coefficients))\n",
        "print(\"Intercept: \" + str(lrModel.intercept))\n",
        "\n",
        "print(\"Root Mean Squared Error: {}\\nR Squared (R2) {}\".format(lrModel.summary.rootMeanSquaredError, lrModel.summary.r2))\n"
      ],
      "execution_count": 0,
      "outputs": []
    },
    {
      "cell_type": "code",
      "metadata": {
        "id": "DW4KzM2EOcJG",
        "colab_type": "code",
        "colab": {}
      },
      "source": [
        "#lrModel.write().overwrite().save('lrModel')\n",
        "#lrModel2 = lrModel2 = LinearRegression.load('lrModel')\n"
      ],
      "execution_count": 0,
      "outputs": []
    },
    {
      "cell_type": "markdown",
      "metadata": {
        "colab_type": "text",
        "id": "gDuwpgTkq0Dz"
      },
      "source": [
        "### Run test data.\n"
      ]
    },
    {
      "cell_type": "code",
      "metadata": {
        "colab_type": "code",
        "id": "bPWNhVvxq0D1",
        "colab": {}
      },
      "source": [
        "lrPredictions = lrModel.transform(test)\n",
        "display(lrPredictions.select(\"prediction\",\"target\",\"features\"), 30)\n",
        "from pyspark.ml.evaluation import RegressionEvaluator\n",
        "lrEvaluator = RegressionEvaluator(predictionCol=\"prediction\", labelCol=\"target\",metricName=\"r2\")\n",
        "testResult = lrModel.evaluate(test)\n",
        "print(\"Root Mean Squared Error on Test set: {}\".format(testResult.rootMeanSquaredError))"
      ],
      "execution_count": 0,
      "outputs": []
    },
    {
      "cell_type": "markdown",
      "metadata": {
        "colab_type": "text",
        "id": "vBJooYD3q0D5"
      },
      "source": [
        "### Try Decision Tree Regression."
      ]
    },
    {
      "cell_type": "code",
      "metadata": {
        "colab_type": "code",
        "id": "YCP7q5wdq0D7",
        "colab": {}
      },
      "source": [
        "from pyspark.ml.regression import DecisionTreeRegressor\n",
        "dt = DecisionTreeRegressor(featuresCol ='features', labelCol = 'target')\n",
        "dtModel = dt.fit(train)\n",
        "dtPredictions = dtModel.transform(test)\n",
        "display(dtPredictions.select(\"prediction\",\"target\",\"features\"), 30)\n",
        "important = dtModel.featureImportances\n",
        "print(type(important), important)\n",
        "#importantDict = zip(important[1], important[2])\n",
        "#print (importantDict)\n",
        "print (important[3])\n",
        "from pyspark.ml.evaluation import RegressionEvaluator\n",
        "dtEvaluator = RegressionEvaluator(predictionCol=\"prediction\", labelCol=\"target\",metricName=\"rmse\")\n",
        "testResult = dtEvaluator.evaluate(dtPredictions)\n",
        "print(\"Root Mean Squared Error: {}\".format(testResult))\n",
        "dfML.take(1)"
      ],
      "execution_count": 0,
      "outputs": []
    },
    {
      "cell_type": "markdown",
      "metadata": {
        "colab_type": "text",
        "id": "YRwC0NLEq0D-"
      },
      "source": [
        "### Try Gradient Boosted Tree."
      ]
    },
    {
      "cell_type": "code",
      "metadata": {
        "colab_type": "code",
        "id": "lmcJ4_trq0EA",
        "colab": {}
      },
      "source": [
        "from pyspark.ml.regression import GBTRegressor\n",
        "gbt = GBTRegressor(featuresCol = 'features', labelCol = 'target', maxIter=10)\n",
        "gbtModel = gbt.fit(train)\n",
        "gbtPredictions = gbtModel.transform(test)\n",
        "display(gbtPredictions.select('prediction', 'target', 'features'), 20)\n",
        "from pyspark.ml.evaluation import RegressionEvaluator\n",
        "gbtEvaluator = RegressionEvaluator(predictionCol=\"prediction\", labelCol=\"target\",metricName=\"rmse\")\n",
        "testResult = gbtEvaluator.evaluate(gbtPredictions)\n",
        "print(\"Root Mean Squared Error: {}\".format(testResult))\n"
      ],
      "execution_count": 0,
      "outputs": []
    },
    {
      "cell_type": "code",
      "metadata": {
        "colab_type": "code",
        "id": "rxEOP5ubq0EE",
        "colab": {}
      },
      "source": [
        ""
      ],
      "execution_count": 0,
      "outputs": []
    }
  ]
}