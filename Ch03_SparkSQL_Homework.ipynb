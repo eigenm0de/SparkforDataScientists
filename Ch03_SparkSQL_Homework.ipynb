{
 "cells": [
  {
   "cell_type": "markdown",
   "metadata": {
    "colab_type": "text",
    "id": "view-in-github"
   },
   "source": [
    "<a href=\"https://colab.research.google.com/github/roitraining/SparkforDataEngineers/blob/Development/Ch03_SparkSQL_Homework.ipynb\" target=\"_parent\"><img src=\"https://colab.research.google.com/assets/colab-badge.svg\" alt=\"Open In Colab\"/></a>"
   ]
  },
  {
   "cell_type": "code",
   "execution_count": 1,
   "metadata": {
    "colab": {},
    "colab_type": "code",
    "id": "6TRqRWvfo2Ca"
   },
   "outputs": [
    {
     "name": "stdout",
     "output_type": "stream",
     "text": [
      "initializing pyspark\n",
      "pyspark initialized\n"
     ]
    }
   ],
   "source": [
    "import sys\n",
    "\n",
    "rootpath = '/home/student/ROI/Spark/'\n",
    "datapath = f'{rootpath}datasets/'\n",
    "sys.path.append(rootpath)\n",
    "from pyspark_helpers import *\n",
    "sc, spark, conf = initspark()\n"
   ]
  },
  {
   "cell_type": "markdown",
   "metadata": {
    "colab_type": "text",
    "id": "86l8gEeNo2Ck"
   },
   "source": [
    "### Homework ##\n",
    "\n",
    "### First Challenge\n",
    "Create a Python function to determine if a number is odd or even and use that to select only the even numbered shippers from the TSV folder of northwind. Note the TSV file does not have headers so you will need to do something to make the DataFrame have a meaningful structure. I would suggest using SparkSql as much as possible to rename and cast the columns which are ShipperID, CompanyName, and Phone.\n",
    "\n",
    "### Second Challenge\n",
    "Take the Order_LineItems.json folder, read it into a DataFrame, and flatten it and then calculate the average price paid for a product.\n"
   ]
  },
  {
   "cell_type": "code",
   "execution_count": 2,
   "metadata": {
    "colab": {},
    "colab_type": "code",
    "id": "89KqfEFQo2Cl"
   },
   "outputs": [
    {
     "name": "stdout",
     "output_type": "stream",
     "text": [
      "Done\n"
     ]
    }
   ],
   "source": [
    "o = spark.read.csv(f'{datapath}/northwind/CSVHeaders/orders', header = True, inferSchema = True)\n",
    "od = spark.read.csv(f'{datapath}/northwind/CSVHeaders/orderdetails', header = True, inferSchema = True)\n",
    "\n",
    "o.createOrReplaceTempView('Orders')\n",
    "od.createOrReplaceTempView('OrderDetails')\n",
    "sql = \"\"\"\n",
    "select o.OrderID, o.CustomerID, o.OrderDate\n",
    "           , COLLECT_SET(NAMED_STRUCT(\"ProductID\", od.ProductID, \n",
    "                                      \"UnitPrice\", od.UnitPrice,\n",
    "                                      \"Quantity\", od.Quantity,\n",
    "                                      \"Discount\", od.discount)) as LineItems\n",
    "from Orders as o join OrderDetails as od on o.OrderID = od.OrderID\n",
    "GROUP BY o.OrderID, o.CustomerID, o.OrderDate\n",
    "ORDER BY o.OrderID\n",
    "\"\"\"\n",
    "od2 = spark.sql(sql)\n",
    "od2.write.mode('overwrite').json(f'{rootpath}Orders_LineItems.json')\n",
    "print('Done')\n",
    "\n"
   ]
  },
  {
   "cell_type": "code",
   "execution_count": null,
   "metadata": {
    "colab": {},
    "colab_type": "code",
    "id": "VAb6t5Xao2Cq"
   },
   "outputs": [],
   "source": [
    "shippers = spark.read.csv(f'{datapath}/northwind/TSV/shippers', header=False, sep = '\\t')\n",
    "#shippers.show()\n",
    "print(shippers)\n",
    "shippers.createOrReplaceTempView('shippers')\n",
    "print(shippers.collect())\n",
    "shippers = spark.sql('select cast(_c0 as int) as ShipperID, _c1 as ShipperName, _c2 as Phone from shippers')\n",
    "shippers.createOrReplaceTempView('shippers')\n",
    "print(shippers)\n",
    "\n",
    "def isEven(x):\n",
    "    return x % 2 == 0\n",
    "\n",
    "from pyspark.sql.functions import udf\n",
    "from pyspark.sql.types import *\n",
    "\n",
    "spark.udf.register('isEven', isEven, BooleanType())\n",
    "\n",
    "spark.sql('select * FROM Shippers WHERE isEven(ShipperID)').show()\n"
   ]
  },
  {
   "cell_type": "code",
   "execution_count": 6,
   "metadata": {
    "colab": {},
    "colab_type": "code",
    "id": "yrZXzt4wo2Cu"
   },
   "outputs": [
    {
     "data": {
      "text/html": [
       "<div>\n",
       "<style scoped>\n",
       "    .dataframe tbody tr th:only-of-type {\n",
       "        vertical-align: middle;\n",
       "    }\n",
       "\n",
       "    .dataframe tbody tr th {\n",
       "        vertical-align: top;\n",
       "    }\n",
       "\n",
       "    .dataframe thead th {\n",
       "        text-align: right;\n",
       "    }\n",
       "</style>\n",
       "<table border=\"1\" class=\"dataframe\">\n",
       "  <thead>\n",
       "    <tr style=\"text-align: right;\">\n",
       "      <th></th>\n",
       "      <th>CustomerID</th>\n",
       "      <th>LineItems</th>\n",
       "      <th>OrderDate</th>\n",
       "      <th>OrderID</th>\n",
       "    </tr>\n",
       "  </thead>\n",
       "  <tbody>\n",
       "    <tr>\n",
       "      <th>0</th>\n",
       "      <td>SIMOB</td>\n",
       "      <td>[(0.05, 16, 14, 17.45)]</td>\n",
       "      <td>1998-05-06T00:00:00.000Z</td>\n",
       "      <td>11074</td>\n",
       "    </tr>\n",
       "    <tr>\n",
       "      <th>1</th>\n",
       "      <td>RICSU</td>\n",
       "      <td>[(0.15, 76, 2, 18.0), (0.15, 2, 10, 19.0), (0....</td>\n",
       "      <td>1998-05-06T00:00:00.000Z</td>\n",
       "      <td>11075</td>\n",
       "    </tr>\n",
       "    <tr>\n",
       "      <th>2</th>\n",
       "      <td>BONAP</td>\n",
       "      <td>[(0.25, 19, 10, 9.2), (0.25, 14, 20, 23.25), (...</td>\n",
       "      <td>1998-05-06T00:00:00.000Z</td>\n",
       "      <td>11076</td>\n",
       "    </tr>\n",
       "    <tr>\n",
       "      <th>3</th>\n",
       "      <td>RATTC</td>\n",
       "      <td>[(0.03, 16, 2, 17.45), (0.1, 8, 2, 40.0), (0.2...</td>\n",
       "      <td>1998-05-06T00:00:00.000Z</td>\n",
       "      <td>11077</td>\n",
       "    </tr>\n",
       "    <tr>\n",
       "      <th>4</th>\n",
       "      <td>FURIB</td>\n",
       "      <td>[(0.15, 16, 40, 17.45), (0.15, 35, 20, 18.0), ...</td>\n",
       "      <td>1997-05-28T00:00:00.000Z</td>\n",
       "      <td>10551</td>\n",
       "    </tr>\n",
       "    <tr>\n",
       "      <th>5</th>\n",
       "      <td>HILAA</td>\n",
       "      <td>[(0.0, 69, 18, 36.0), (0.0, 75, 30, 7.75)]</td>\n",
       "      <td>1997-05-29T00:00:00.000Z</td>\n",
       "      <td>10552</td>\n",
       "    </tr>\n",
       "    <tr>\n",
       "      <th>6</th>\n",
       "      <td>WARTH</td>\n",
       "      <td>[(0.0, 31, 30, 12.5), (0.0, 16, 14, 17.45), (0...</td>\n",
       "      <td>1997-05-30T00:00:00.000Z</td>\n",
       "      <td>10553</td>\n",
       "    </tr>\n",
       "    <tr>\n",
       "      <th>7</th>\n",
       "      <td>OTTIK</td>\n",
       "      <td>[(0.05, 23, 20, 9.0), (0.05, 77, 10, 13.0), (0...</td>\n",
       "      <td>1997-05-30T00:00:00.000Z</td>\n",
       "      <td>10554</td>\n",
       "    </tr>\n",
       "    <tr>\n",
       "      <th>8</th>\n",
       "      <td>SAVEA</td>\n",
       "      <td>[(0.2, 56, 40, 38.0), (0.2, 24, 18, 4.5), (0.2...</td>\n",
       "      <td>1997-06-02T00:00:00.000Z</td>\n",
       "      <td>10555</td>\n",
       "    </tr>\n",
       "    <tr>\n",
       "      <th>9</th>\n",
       "      <td>ISLAT</td>\n",
       "      <td>[(0.0, 2, 10, 19.0), (0.0, 13, 10, 6.0), (0.0,...</td>\n",
       "      <td>1998-01-13T00:00:00.000Z</td>\n",
       "      <td>10829</td>\n",
       "    </tr>\n",
       "  </tbody>\n",
       "</table>\n",
       "</div>"
      ],
      "text/plain": [
       "  CustomerID                                          LineItems  \\\n",
       "0      SIMOB                            [(0.05, 16, 14, 17.45)]   \n",
       "1      RICSU  [(0.15, 76, 2, 18.0), (0.15, 2, 10, 19.0), (0....   \n",
       "2      BONAP  [(0.25, 19, 10, 9.2), (0.25, 14, 20, 23.25), (...   \n",
       "3      RATTC  [(0.03, 16, 2, 17.45), (0.1, 8, 2, 40.0), (0.2...   \n",
       "4      FURIB  [(0.15, 16, 40, 17.45), (0.15, 35, 20, 18.0), ...   \n",
       "5      HILAA         [(0.0, 69, 18, 36.0), (0.0, 75, 30, 7.75)]   \n",
       "6      WARTH  [(0.0, 31, 30, 12.5), (0.0, 16, 14, 17.45), (0...   \n",
       "7      OTTIK  [(0.05, 23, 20, 9.0), (0.05, 77, 10, 13.0), (0...   \n",
       "8      SAVEA  [(0.2, 56, 40, 38.0), (0.2, 24, 18, 4.5), (0.2...   \n",
       "9      ISLAT  [(0.0, 2, 10, 19.0), (0.0, 13, 10, 6.0), (0.0,...   \n",
       "\n",
       "                  OrderDate  OrderID  \n",
       "0  1998-05-06T00:00:00.000Z    11074  \n",
       "1  1998-05-06T00:00:00.000Z    11075  \n",
       "2  1998-05-06T00:00:00.000Z    11076  \n",
       "3  1998-05-06T00:00:00.000Z    11077  \n",
       "4  1997-05-28T00:00:00.000Z    10551  \n",
       "5  1997-05-29T00:00:00.000Z    10552  \n",
       "6  1997-05-30T00:00:00.000Z    10553  \n",
       "7  1997-05-30T00:00:00.000Z    10554  \n",
       "8  1997-06-02T00:00:00.000Z    10555  \n",
       "9  1998-01-13T00:00:00.000Z    10829  "
      ]
     },
     "metadata": {},
     "output_type": "display_data"
    },
    {
     "name": "stdout",
     "output_type": "stream",
     "text": [
      "+---------+------------------+\n",
      "|ProductID|    avg(UnitPrice)|\n",
      "+---------+------------------+\n",
      "|       26|28.856250000000003|\n",
      "|       29|116.04312499999999|\n",
      "|       65|          19.45625|\n",
      "|       19| 8.532432432432433|\n",
      "|       54| 6.804166666666667|\n",
      "|       22|20.400000000000002|\n",
      "|       77|12.110526315789473|\n",
      "|        7| 29.17241379310345|\n",
      "|       34|12.968421052631578|\n",
      "|       50|             14.95|\n",
      "|       57|18.143478260869564|\n",
      "|       32|30.719999999999995|\n",
      "|       43|43.042857142857144|\n",
      "|       31|11.666666666666666|\n",
      "|       39|             16.68|\n",
      "|       25|13.066666666666666|\n",
      "|       71|19.759523809523813|\n",
      "|        6|24.166666666666668|\n",
      "|       68|11.544117647058824|\n",
      "|       72| 32.03684210526316|\n",
      "+---------+------------------+\n",
      "only showing top 20 rows\n",
      "\n"
     ]
    }
   ],
   "source": [
    "from pyspark.sql.functions import avg\n",
    "\n",
    "o = spark.read.json(f'{rootpath}/Orders_LineItems.json')\n",
    "display(o)\n",
    "o.createOrReplaceTempView('Orders')\n",
    "sql = '''\n",
    "select OrderId, CustomerID, OrderDate, l.ProductID, l.UnitPrice, l.Quantity, l.Discount\n",
    "FROM Orders LATERAL VIEW EXPLODE(LineItems) EXPLODED_TABLE AS l\n",
    "'''\n",
    "o2 = spark.sql(sql)\n",
    "#display(o2)\n",
    "\n",
    "o2.groupby('ProductID').agg(avg('UnitPrice')).show()\n",
    "\n",
    "# o2.createOrReplaceTempView('FlatOrders')\n",
    "# spark.sql('select avg(UnitPrice) from FlatOrders').show()\n"
   ]
  },
  {
   "cell_type": "code",
   "execution_count": null,
   "metadata": {
    "colab": {},
    "colab_type": "code",
    "id": "AC_U43JHo2Cy"
   },
   "outputs": [],
   "source": []
  }
 ],
 "metadata": {
  "colab": {
   "include_colab_link": true,
   "name": "Ch03_SparkSQL_Homework.ipynb",
   "provenance": []
  },
  "kernelspec": {
   "display_name": "Python 3",
   "language": "python",
   "name": "python3"
  },
  "language_info": {
   "codemirror_mode": {
    "name": "ipython",
    "version": 3
   },
   "file_extension": ".py",
   "mimetype": "text/x-python",
   "name": "python",
   "nbconvert_exporter": "python",
   "pygments_lexer": "ipython3",
   "version": "3.7.3"
  }
 },
 "nbformat": 4,
 "nbformat_minor": 1
}
